{
 "cells": [
  {
   "cell_type": "code",
   "execution_count": 2,
   "id": "69b07808-7a82-4a38-8147-da9c28d3c9de",
   "metadata": {},
   "outputs": [
    {
     "name": "stdout",
     "output_type": "stream",
     "text": [
      "Note: you may need to restart the kernel to use updated packages.\n"
     ]
    }
   ],
   "source": [
    "%pip install --quiet --upgrade langchain-text-splitters langchain-community langgraph"
   ]
  },
  {
   "cell_type": "code",
   "execution_count": 3,
   "id": "660cacd0-0d5e-4a78-bb64-b7c80cc49c6c",
   "metadata": {},
   "outputs": [
    {
     "name": "stdin",
     "output_type": "stream",
     "text": [
      " ········\n"
     ]
    }
   ],
   "source": [
    "import getpass\n",
    "import os\n",
    "\n",
    "os.environ[\"LANGCHAIN_TRACING_V2\"] = \"true\"\n",
    "os.environ[\"LANGCHAIN_API_KEY\"] = getpass.getpass()"
   ]
  },
  {
   "cell_type": "code",
   "execution_count": 4,
   "id": "93f3bbc3-3931-40f5-a801-3cbc494e4c30",
   "metadata": {},
   "outputs": [
    {
     "name": "stdout",
     "output_type": "stream",
     "text": [
      "Note: you may need to restart the kernel to use updated packages.\n"
     ]
    }
   ],
   "source": [
    "pip install -qU langchain-cohere"
   ]
  },
  {
   "cell_type": "code",
   "execution_count": 5,
   "id": "37532823-579b-43f9-94c3-23110039f7c7",
   "metadata": {},
   "outputs": [
    {
     "name": "stdin",
     "output_type": "stream",
     "text": [
      "Enter API key for Cohere:  ········\n"
     ]
    }
   ],
   "source": [
    "import getpass\n",
    "import os\n",
    "\n",
    "if not os.environ.get(\"COHERE_API_KEY\"):\n",
    "  os.environ[\"COHERE_API_KEY\"] = getpass.getpass(\"Enter API key for Cohere: \")\n",
    "\n",
    "from langchain_cohere import ChatCohere\n",
    "\n",
    "llm = ChatCohere(model=\"command-r-plus\")"
   ]
  },
  {
   "cell_type": "code",
   "execution_count": 6,
   "id": "427c38ad-e728-4436-876d-ba787963dbd5",
   "metadata": {},
   "outputs": [],
   "source": [
    "import getpass\n",
    "import os\n",
    "\n",
    "if not os.environ.get(\"COHERE_API_KEY\"):\n",
    "  os.environ[\"COHERE_API_KEY\"] = getpass.getpass(\"Enter API key for Cohere: \")\n",
    "\n",
    "from langchain_cohere import CohereEmbeddings\n",
    "\n",
    "embeddings = CohereEmbeddings(model=\"embed-english-v3.0\")"
   ]
  },
  {
   "cell_type": "code",
   "execution_count": 5,
   "id": "352d950b-0f86-4646-91d7-597066eade4b",
   "metadata": {},
   "outputs": [
    {
     "name": "stdout",
     "output_type": "stream",
     "text": [
      "Note: you may need to restart the kernel to use updated packages.\n"
     ]
    },
    {
     "name": "stderr",
     "output_type": "stream",
     "text": [
      "  WARNING: Failed to remove contents in a temporary directory 'C:\\Users\\Sharukhan\\AppData\\Local\\Programs\\Python\\Python312\\Lib\\site-packages\\~iohttp'.\n",
      "  You can safely remove it manually.\n"
     ]
    }
   ],
   "source": [
    "pip install -qU langchain-pinecone"
   ]
  },
  {
   "cell_type": "code",
   "execution_count": 7,
   "id": "8d80e73f-bb45-4f00-9be6-90853e0f3d0d",
   "metadata": {},
   "outputs": [
    {
     "name": "stdin",
     "output_type": "stream",
     "text": [
      " ········\n"
     ]
    }
   ],
   "source": [
    "os.environ[\"PINECONE_API_KEY\"] = getpass.getpass()"
   ]
  },
  {
   "cell_type": "code",
   "execution_count": 21,
   "id": "6e4a3cb6-15d4-44bb-b0bb-c868e2dae664",
   "metadata": {},
   "outputs": [],
   "source": [
    "from langchain_pinecone import PineconeVectorStore\n",
    "from pinecone import Pinecone, ServerlessSpec\n",
    "\n",
    "pc = Pinecone()\n",
    "index_name = \"react-demo\"\n",
    "\n",
    "pc.create_index(\n",
    "    name=index_name,\n",
    "    dimension=1024, # Replace with your model dimensions\n",
    "    metric=\"cosine\", # Replace with your model metric\n",
    "    spec=ServerlessSpec(\n",
    "        cloud=\"aws\",\n",
    "        region=\"us-east-1\"\n",
    "    ) \n",
    ")\n",
    "\n",
    "index = pc.Index(index_name)\n",
    "\n",
    "vector_store = PineconeVectorStore(embedding=embeddings, index=index)"
   ]
  },
  {
   "cell_type": "code",
   "execution_count": 22,
   "id": "84975614-dc3f-4e56-be7c-0d84268f35ee",
   "metadata": {},
   "outputs": [],
   "source": [
    "os.environ[\"USER_AGENT\"] = \"agent\""
   ]
  },
  {
   "cell_type": "code",
   "execution_count": 31,
   "id": "51785f8a-afac-40f9-a5d9-479dd4b9b414",
   "metadata": {},
   "outputs": [],
   "source": [
    "import bs4\n",
    "from langchain import hub\n",
    "from langchain_community.document_loaders import WebBaseLoader\n",
    "from langchain_core.documents import Document\n",
    "from langchain_text_splitters import RecursiveCharacterTextSplitter\n",
    "from langgraph.graph import START, StateGraph\n",
    "from typing_extensions import List, TypedDict\n",
    "\n",
    "# Load and chunk contents of the blog\n",
    "loader = WebBaseLoader(\n",
    "    web_paths=('https://react.dev/blog/2024/12/05/react-19',),\n",
    "    bs_kwargs=dict(\n",
    "        parse_only=bs4.SoupStrainer(\n",
    "            class_=(\"page-content\", \"title\")\n",
    "        )\n",
    "    ),\n",
    "\n",
    ")\n",
    "docs = loader.load()\n",
    "\n",
    "text_splitter = RecursiveCharacterTextSplitter(chunk_size=1000, chunk_overlap=200)\n",
    "all_splits = text_splitter.split_documents(docs)\n",
    "\n",
    "# Index chunks\n",
    "_ = vector_store.add_documents(documents=all_splits)\n",
    "\n",
    "# Define prompt for question-answering\n",
    "prompt = hub.pull(\"rlm/rag-prompt\")\n",
    "\n",
    "\n",
    "# Define state for application\n",
    "class State(TypedDict):\n",
    "    question: str\n",
    "    context: List[Document]\n",
    "    answer: str\n",
    "\n",
    "\n",
    "# Define application steps\n",
    "def retrieve(state: State):\n",
    "    retrieved_docs = vector_store.similarity_search(state[\"question\"])\n",
    "    return {\"context\": retrieved_docs}\n",
    "\n",
    "\n",
    "def generate(state: State):\n",
    "    docs_content = \"\\n\\n\".join(doc.page_content for doc in state[\"context\"])\n",
    "    messages = prompt.invoke({\"question\": state[\"question\"], \"context\": docs_content})\n",
    "    response = llm.invoke(messages)\n",
    "    return {\"answer\": response.content}\n",
    "\n",
    "\n",
    "# Compile application and test\n",
    "graph_builder = StateGraph(State).add_sequence([retrieve, generate])\n",
    "graph_builder.add_edge(START, \"retrieve\")\n",
    "graph = graph_builder.compile()"
   ]
  },
  {
   "cell_type": "code",
   "execution_count": 39,
   "id": "18c2da57-8cf2-49a6-b60f-6a8488dd2d8c",
   "metadata": {},
   "outputs": [
    {
     "name": "stdout",
     "output_type": "stream",
     "text": [
      "React 19 introduces pre-warming for suspended trees, improving Suspense functionality, and new React DOM static APIs.\n"
     ]
    }
   ],
   "source": [
    "response = graph.invoke({\"question\": \"What are the new updates added to the react new version? answer in 50 words\"})\n",
    "print(response[\"answer\"])"
   ]
  },
  {
   "cell_type": "code",
   "execution_count": 37,
   "id": "f0bd7fe6-0267-4f50-bd8d-61d14f476060",
   "metadata": {},
   "outputs": [
    {
     "data": {
      "image/png": "[encoded data removed]",
      "text/plain": [
       "<langgraph.graph.state.CompiledStateGraph object at 0x00000178C1B24230>"
      ]
     },
     "execution_count": 37,
     "metadata": {},
     "output_type": "execute_result"
    }
   ],
   "source": [
    "graph"
   ]
  },
  {
   "cell_type": "code",
   "execution_count": 35,
   "id": "3764d057-444f-42e3-ab7a-fe8d72f0b605",
   "metadata": {},
   "outputs": [
    {
     "data": {
      "text/plain": [
       "'The current major version of React is React 18, which was released on March 29, 2022. This version introduced several new features and improvements, including:\\n\\n1. Concurrent Features: React 18 brings the ability to start working on concurrent features, which means React can now work on multiple tasks simultaneously, improving the overall performance and responsiveness of your application.\\n\\n1. Suspense and Streaming Server Rendering: Suspense allows React components to \"wait\" for something before rendering, enabling better handling of asynchronous operations like data fetching. Streaming Server Rendering improves the user experience by sending the initial HTML to the browser sooner.\\n\\n1. New APIs: React 18 comes with new APIs like startTransition and useId. startTransition helps you control when updates are applied, enabling better control over the timing of state updates. useId is a new hook that provides a unique ID for accessibility needs.\\n\\n1. Improved Server Components: Server Components, introduced in React 17, have been improved in React 18, making it easier to build applications that render on the server.\\n\\n1. Automatic Batching: React 18 automatically batches state updates to improve performance by reducing the number of expensive re-renders.\\n\\nTo check the exact current version of React you have installed in your project, you can refer to the package.json file in the project root directory. The \"react\" and \"react-dom\" packages will have their respective version numbers listed.\\n\\nIt\\'s always recommended to keep your React version up to date to take advantage of the latest features, improvements, and bug fixes.'"
      ]
     },
     "execution_count": 35,
     "metadata": {},
     "output_type": "execute_result"
    }
   ],
   "source": [
    "llm.invoke(\"what is the current react version runnning?\").content"
   ]
  },
  {
   "cell_type": "code",
   "execution_count": null,
   "id": "e1cd351a-2111-4d01-b97b-abea7802de4c",
   "metadata": {},
   "outputs": [],
   "source": []
  }
 ],
 "metadata": {
  "kernelspec": {
   "display_name": "Python 3 (ipykernel)",
   "language": "python",
   "name": "python3"
  },
  "language_info": {
   "codemirror_mode": {
    "name": "ipython",
    "version": 3
   },
   "file_extension": ".py",
   "mimetype": "text/x-python",
   "name": "python",
   "nbconvert_exporter": "python",
   "pygments_lexer": "ipython3",
   "version": "3.12.2"
  }
 },
 "nbformat": 4,
 "nbformat_minor": 5
}
