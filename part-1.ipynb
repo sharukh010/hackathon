{
 "cells": [
  {
   "cell_type": "code",
   "execution_count": 2,
   "id": "69b07808-7a82-4a38-8147-da9c28d3c9de",
   "metadata": {},
   "outputs": [
    {
     "name": "stdout",
     "output_type": "stream",
     "text": [
      "Note: you may need to restart the kernel to use updated packages.\n"
     ]
    }
   ],
   "source": [
    "%pip install --quiet --upgrade langchain-text-splitters langchain-community langgraph"
   ]
  },
  {
   "cell_type": "code",
   "execution_count": 3,
   "id": "660cacd0-0d5e-4a78-bb64-b7c80cc49c6c",
   "metadata": {},
   "outputs": [
    {
     "name": "stdin",
     "output_type": "stream",
     "text": [
      " ········\n"
     ]
    }
   ],
   "source": [
    "import getpass\n",
    "import os\n",
    "\n",
    "os.environ[\"LANGCHAIN_TRACING_V2\"] = \"true\"\n",
    "os.environ[\"LANGCHAIN_API_KEY\"] = getpass.getpass()"
   ]
  },
  {
   "cell_type": "code",
   "execution_count": 4,
   "id": "93f3bbc3-3931-40f5-a801-3cbc494e4c30",
   "metadata": {},
   "outputs": [
    {
     "name": "stdout",
     "output_type": "stream",
     "text": [
      "Note: you may need to restart the kernel to use updated packages.\n"
     ]
    }
   ],
   "source": [
    "pip install -qU langchain-cohere"
   ]
  },
  {
   "cell_type": "code",
   "execution_count": 5,
   "id": "37532823-579b-43f9-94c3-23110039f7c7",
   "metadata": {},
   "outputs": [
    {
     "name": "stdin",
     "output_type": "stream",
     "text": [
      "Enter API key for Cohere:  ········\n"
     ]
    }
   ],
   "source": [
    "import getpass\n",
    "import os\n",
    "\n",
    "if not os.environ.get(\"COHERE_API_KEY\"):\n",
    "  os.environ[\"COHERE_API_KEY\"] = getpass.getpass(\"Enter API key for Cohere: \")\n",
    "\n",
    "from langchain_cohere import ChatCohere\n",
    "\n",
    "llm = ChatCohere(model=\"command-r-plus\")"
   ]
  },
  {
   "cell_type": "code",
   "execution_count": 6,
   "id": "427c38ad-e728-4436-876d-ba787963dbd5",
   "metadata": {},
   "outputs": [],
   "source": [
    "import getpass\n",
    "import os\n",
    "\n",
    "if not os.environ.get(\"COHERE_API_KEY\"):\n",
    "  os.environ[\"COHERE_API_KEY\"] = getpass.getpass(\"Enter API key for Cohere: \")\n",
    "\n",
    "from langchain_cohere import CohereEmbeddings\n",
    "\n",
    "embeddings = CohereEmbeddings(model=\"embed-english-v3.0\")"
   ]
  },
  {
   "cell_type": "code",
   "execution_count": 5,
   "id": "352d950b-0f86-4646-91d7-597066eade4b",
   "metadata": {},
   "outputs": [
    {
     "name": "stdout",
     "output_type": "stream",
     "text": [
      "Note: you may need to restart the kernel to use updated packages.\n"
     ]
    },
    {
     "name": "stderr",
     "output_type": "stream",
     "text": [
      "  WARNING: Failed to remove contents in a temporary directory 'C:\\Users\\Sharukhan\\AppData\\Local\\Programs\\Python\\Python312\\Lib\\site-packages\\~iohttp'.\n",
      "  You can safely remove it manually.\n"
     ]
    }
   ],
   "source": [
    "pip install -qU langchain-pinecone"
   ]
  },
  {
   "cell_type": "code",
   "execution_count": 7,
   "id": "8d80e73f-bb45-4f00-9be6-90853e0f3d0d",
   "metadata": {},
   "outputs": [
    {
     "name": "stdin",
     "output_type": "stream",
     "text": [
      " ········\n"
     ]
    }
   ],
   "source": [
    "os.environ[\"PINECONE_API_KEY\"] = getpass.getpass()"
   ]
  },
  {
   "cell_type": "code",
   "execution_count": 21,
   "id": "6e4a3cb6-15d4-44bb-b0bb-c868e2dae664",
   "metadata": {},
   "outputs": [],
   "source": [
    "from langchain_pinecone import PineconeVectorStore\n",
    "from pinecone import Pinecone, ServerlessSpec\n",
    "\n",
    "pc = Pinecone()\n",
    "index_name = \"react-demo\"\n",
    "\n",
    "pc.create_index(\n",
    "    name=index_name,\n",
    "    dimension=1024, # Replace with your model dimensions\n",
    "    metric=\"cosine\", # Replace with your model metric\n",
    "    spec=ServerlessSpec(\n",
    "        cloud=\"aws\",\n",
    "        region=\"us-east-1\"\n",
    "    ) \n",
    ")\n",
    "\n",
    "index = pc.Index(index_name)\n",
    "\n",
    "vector_store = PineconeVectorStore(embedding=embeddings, index=index)"
   ]
  },
  {
   "cell_type": "code",
   "execution_count": 22,
   "id": "84975614-dc3f-4e56-be7c-0d84268f35ee",
   "metadata": {},
   "outputs": [],
   "source": [
    "os.environ[\"USER_AGENT\"] = \"agent\""
   ]
  },
  {
   "cell_type": "code",
   "execution_count": 145,
   "id": "51785f8a-afac-40f9-a5d9-479dd4b9b414",
   "metadata": {},
   "outputs": [],
   "source": [
    "import bs4\n",
    "from langchain import hub\n",
    "from langchain_community.document_loaders import WebBaseLoader\n",
    "from langchain_core.documents import Document\n",
    "from langchain_text_splitters import RecursiveCharacterTextSplitter\n",
    "from langgraph.graph import START, StateGraph\n",
    "from typing_extensions import List, TypedDict\n",
    "\n",
    "# Load and chunk contents of the blog\n",
    "loader = WebBaseLoader(\n",
    "    web_paths=('https://react.dev/blog/2024/12/05/react-19',),\n",
    "    bs_kwargs=dict(\n",
    "        parse_only=bs4.SoupStrainer(\n",
    "            class_=(\"page-content\", \"title\")\n",
    "        )\n",
    "    ),\n",
    "\n",
    ")\n",
    "docs = loader.load()\n",
    "\n",
    "text_splitter = RecursiveCharacterTextSplitter(chunk_size=1000, chunk_overlap=200)\n",
    "all_splits = text_splitter.split_documents(docs)\n",
    "\n",
    "# Index chunks\n",
    "_ = vector_store.add_documents(documents=all_splits)\n",
    "\n",
    "# Define prompt for question-answering\n",
    "prompt = hub.pull(\"rlm/rag-prompt\")\n",
    "\n",
    "\n",
    "# Define state for application\n",
    "class State(TypedDict):\n",
    "    question: str\n",
    "    context: List[Document]\n",
    "    answer: str\n",
    "\n",
    "\n",
    "# Define application steps\n",
    "def retrieve(state: State):\n",
    "    retrieved_docs = vector_store.similarity_search(state[\"question\"])\n",
    "    return {\"context\": retrieved_docs}\n",
    "\n",
    "\n",
    "def generate(state: State):\n",
    "    docs_content = \"\\n\\n\".join(doc.page_content for doc in state[\"context\"]) if \"context\" in state.keys() else \"\"\n",
    "    messages = prompt.invoke({\"question\": state[\"question\"], \"context\": docs_content})\n",
    "    response = llm.invoke(messages)\n",
    "    return {\"answer\": response.content}\n"
   ]
  },
  {
   "cell_type": "code",
   "execution_count": 146,
   "id": "25f5aba0-8413-4612-bb2a-f632638b7d17",
   "metadata": {},
   "outputs": [],
   "source": [
    "from typing import Literal\n",
    "from langchain.prompts import PromptTemplate\n",
    "from langgraph.types import Command\n",
    "import ast\n",
    "\n",
    "# Create a LangChain prompt template with escaped curly braces\n",
    "template = \"\"\"\n",
    "Analyze the user's question and determine whether it requires updated documentation knowledge. Follow these guidelines:\n",
    "\n",
    "1. If the question is about a new feature or recent update in React, return: {{\"retrieve\":\"true\"}}\n",
    "\n",
    "2. If the question is related to React basics, foundational concepts, or general usage, return: {{\"retrieve\":\"false\"}}\n",
    "\n",
    "Question: {question}\n",
    "\n",
    "Your Answer:\n",
    "\"\"\"\n",
    "\n",
    "react_doc_analysis_prompt = PromptTemplate(\n",
    "    input_variables=[\"question\"],\n",
    "    template=template,\n",
    ")\n",
    "\n",
    "prompt_analysis_chain = react_doc_analysis_prompt | llm"
   ]
  },
  {
   "cell_type": "code",
   "execution_count": 147,
   "id": "ebb17747-9086-412e-a87b-4d221e7889dd",
   "metadata": {},
   "outputs": [],
   "source": [
    "result = prompt_analysis_chain.invoke({\"question\":\"what are react new features?\"}).content"
   ]
  },
  {
   "cell_type": "code",
   "execution_count": 148,
   "id": "a1d2fe23-e81a-4f3e-8c2c-e778a0a2d9ef",
   "metadata": {},
   "outputs": [],
   "source": [
    "result = ast.literal_eval(result)"
   ]
  },
  {
   "cell_type": "code",
   "execution_count": 149,
   "id": "6245d25a-f451-438d-ad75-19f1987afd26",
   "metadata": {},
   "outputs": [
    {
     "name": "stdout",
     "output_type": "stream",
     "text": [
      "{'retrieve': 'true'}\n"
     ]
    }
   ],
   "source": [
    "print(result)"
   ]
  },
  {
   "cell_type": "code",
   "execution_count": 150,
   "id": "b4c1bc61-d371-4799-b447-d548301bbe95",
   "metadata": {},
   "outputs": [],
   "source": [
    "def evaluator(state: State) ->Command[Literal['retrieve','generate']]:\n",
    "    result = prompt_analysis_chain.invoke({\"question\":state[\"question\"]}).content\n",
    "    result = ast.literal_eval(result)\n",
    "    if result['retrieve'] == 'true':\n",
    "        return Command(\n",
    "            goto=\"retrieve\"\n",
    "        )\n",
    "    return Command(\n",
    "        goto=\"generate\"\n",
    "    )\n"
   ]
  },
  {
   "cell_type": "code",
   "execution_count": 151,
   "id": "e34a7910-afd5-4f22-b02a-bbe015f7e68d",
   "metadata": {},
   "outputs": [],
   "source": [
    "graph_builder = StateGraph(State).add_sequence([retrieve,generate,])\n",
    "graph_builder.add_node(evaluator)\n",
    "graph_builder.add_edge(START, \"evaluator\")\n",
    "graph = graph_builder.compile()"
   ]
  },
  {
   "cell_type": "code",
   "execution_count": 152,
   "id": "1863d98f-eb16-4d79-87c7-eb19685d25b3",
   "metadata": {},
   "outputs": [
    {
     "data": {
      "image/png": "[encoded data removed]",
      "text/plain": [
       "<langgraph.graph.state.CompiledStateGraph object at 0x00000178C2F6C6B0>"
      ]
     },
     "execution_count": 152,
     "metadata": {},
     "output_type": "execute_result"
    }
   ],
   "source": [
    "graph"
   ]
  },
  {
   "cell_type": "code",
   "execution_count": 153,
   "id": "18c2da57-8cf2-49a6-b60f-6a8488dd2d8c",
   "metadata": {},
   "outputs": [
    {
     "name": "stdout",
     "output_type": "stream",
     "text": [
      "The new React version includes pre-warming for suspended trees, React DOM static APIs, and Custom Element support.\n"
     ]
    }
   ],
   "source": [
    "response = graph.invoke({\"question\": \"What are the new updates added to the react new version? answer in 50 words\"})\n",
    "print(response[\"answer\"])"
   ]
  },
  {
   "cell_type": "code",
   "execution_count": 155,
   "id": "b0f5dd45-e861-48bd-a321-3ec3c33f1ae4",
   "metadata": {},
   "outputs": [
    {
     "name": "stdout",
     "output_type": "stream",
     "text": [
      "{'question': 'What are the new updates added to the react new version? answer in 50 words'}\n",
      "{'question': 'What are the new updates added to the react new version? answer in 50 words', 'context': [Document(id='b614b316-aa06-4db9-8433-fee5cb8636a3', metadata={'language': 'en', 'source': 'https://react.dev/blog/2024/12/05/react-19', 'title': 'React v19 – React'}, page_content='React v19 – ReactReactv19Search⌘CtrlKLearnReferenceCommunityBlogBlogReact v19December 05, 2024 by The React Team\\n\\nNoteReact 19 is now stable! Additions since this post was originally shared with the React 19 RC in April:\\nPre-warming for suspended trees: see Improvements to Suspense.\\nReact DOM static APIs: see New React DOM Static APIs.\\nThe date for this post has been updated to reflect the stable release date.\\nReact v19 is now available on npm!\\nIn our React 19 Upgrade Guide, we shared step-by-step instructions for upgrading your app to React 19. In this post, we’ll give an overview of the new features in React 19, and how you can adopt them.\\n\\nWhat’s new in React 19\\nImprovements in React 19\\nHow to upgrade\\n\\nFor a list of breaking changes, see the Upgrade Guide.'), Document(id='37d54163-5568-49bc-b436-832de7a75501', metadata={'language': 'en', 'source': 'https://react.dev/blog/2024/12/05/react-19', 'title': 'React v19 – React'}, page_content='React v19 – ReactReactv19Search⌘CtrlKLearnReferenceCommunityBlogBlogReact v19December 05, 2024 by The React Team\\n\\nNoteReact 19 is now stable! Additions since this post was originally shared with the React 19 RC in April:\\nPre-warming for suspended trees: see Improvements to Suspense.\\nReact DOM static APIs: see New React DOM Static APIs.\\nThe date for this post has been updated to reflect the stable release date.\\nReact v19 is now available on npm!\\nIn our React 19 Upgrade Guide, we shared step-by-step instructions for upgrading your app to React 19. In this post, we’ll give an overview of the new features in React 19, and how you can adopt them.\\n\\nWhat’s new in React 19\\nImprovements in React 19\\nHow to upgrade\\n\\nFor a list of breaking changes, see the Upgrade Guide.'), Document(id='a9bea7ea-6b4c-44e9-8e43-051520292521', metadata={'language': 'en', 'source': 'https://react.dev/blog/2024/12/05/react-19', 'title': 'React v19 – React'}, page_content='Thanks to Joey Arhar for driving the design and implementation of Custom Element support in React.\\nHow to upgrade \\nSee the React 19 Upgrade Guide for step-by-step instructions and a full list of breaking and notable changes.\\nNote: this post was originally published 04/25/2024 and has been updated to 12/05/2024 with the stable release.PreviousBlogNextReact Compiler Beta Release and RoadmapCopyright © Meta Platforms, Incno uwu plzuwu?Logo by@sawaratsuki1004Learn ReactQuick StartInstallationDescribing the UIAdding InteractivityManaging StateEscape HatchesAPI ReferenceReact APIsReact DOM APIsCommunityCode of ConductMeet the TeamDocs ContributorsAcknowledgementsMoreBlogReact NativePrivacyTerms'), Document(id='905e1f1d-5293-4a91-a298-24322a9f3d52', metadata={'language': 'en', 'source': 'https://react.dev/blog/2024/12/05/react-19', 'title': 'React v19 – React'}, page_content='Thanks to Joey Arhar for driving the design and implementation of Custom Element support in React.\\nHow to upgrade \\nSee the React 19 Upgrade Guide for step-by-step instructions and a full list of breaking and notable changes.\\nNote: this post was originally published 04/25/2024 and has been updated to 12/05/2024 with the stable release.PreviousBlogNextReact Compiler Beta Release and RoadmapCopyright © Meta Platforms, Incno uwu plzuwu?Logo by@sawaratsuki1004Learn ReactQuick StartInstallationDescribing the UIAdding InteractivityManaging StateEscape HatchesAPI ReferenceReact APIsReact DOM APIsCommunityCode of ConductMeet the TeamDocs ContributorsAcknowledgementsMoreBlogReact NativePrivacyTerms')]}\n",
      "{'question': 'What are the new updates added to the react new version? answer in 50 words', 'context': [Document(id='b614b316-aa06-4db9-8433-fee5cb8636a3', metadata={'language': 'en', 'source': 'https://react.dev/blog/2024/12/05/react-19', 'title': 'React v19 – React'}, page_content='React v19 – ReactReactv19Search⌘CtrlKLearnReferenceCommunityBlogBlogReact v19December 05, 2024 by The React Team\\n\\nNoteReact 19 is now stable! Additions since this post was originally shared with the React 19 RC in April:\\nPre-warming for suspended trees: see Improvements to Suspense.\\nReact DOM static APIs: see New React DOM Static APIs.\\nThe date for this post has been updated to reflect the stable release date.\\nReact v19 is now available on npm!\\nIn our React 19 Upgrade Guide, we shared step-by-step instructions for upgrading your app to React 19. In this post, we’ll give an overview of the new features in React 19, and how you can adopt them.\\n\\nWhat’s new in React 19\\nImprovements in React 19\\nHow to upgrade\\n\\nFor a list of breaking changes, see the Upgrade Guide.'), Document(id='37d54163-5568-49bc-b436-832de7a75501', metadata={'language': 'en', 'source': 'https://react.dev/blog/2024/12/05/react-19', 'title': 'React v19 – React'}, page_content='React v19 – ReactReactv19Search⌘CtrlKLearnReferenceCommunityBlogBlogReact v19December 05, 2024 by The React Team\\n\\nNoteReact 19 is now stable! Additions since this post was originally shared with the React 19 RC in April:\\nPre-warming for suspended trees: see Improvements to Suspense.\\nReact DOM static APIs: see New React DOM Static APIs.\\nThe date for this post has been updated to reflect the stable release date.\\nReact v19 is now available on npm!\\nIn our React 19 Upgrade Guide, we shared step-by-step instructions for upgrading your app to React 19. In this post, we’ll give an overview of the new features in React 19, and how you can adopt them.\\n\\nWhat’s new in React 19\\nImprovements in React 19\\nHow to upgrade\\n\\nFor a list of breaking changes, see the Upgrade Guide.'), Document(id='a9bea7ea-6b4c-44e9-8e43-051520292521', metadata={'language': 'en', 'source': 'https://react.dev/blog/2024/12/05/react-19', 'title': 'React v19 – React'}, page_content='Thanks to Joey Arhar for driving the design and implementation of Custom Element support in React.\\nHow to upgrade \\nSee the React 19 Upgrade Guide for step-by-step instructions and a full list of breaking and notable changes.\\nNote: this post was originally published 04/25/2024 and has been updated to 12/05/2024 with the stable release.PreviousBlogNextReact Compiler Beta Release and RoadmapCopyright © Meta Platforms, Incno uwu plzuwu?Logo by@sawaratsuki1004Learn ReactQuick StartInstallationDescribing the UIAdding InteractivityManaging StateEscape HatchesAPI ReferenceReact APIsReact DOM APIsCommunityCode of ConductMeet the TeamDocs ContributorsAcknowledgementsMoreBlogReact NativePrivacyTerms'), Document(id='905e1f1d-5293-4a91-a298-24322a9f3d52', metadata={'language': 'en', 'source': 'https://react.dev/blog/2024/12/05/react-19', 'title': 'React v19 – React'}, page_content='Thanks to Joey Arhar for driving the design and implementation of Custom Element support in React.\\nHow to upgrade \\nSee the React 19 Upgrade Guide for step-by-step instructions and a full list of breaking and notable changes.\\nNote: this post was originally published 04/25/2024 and has been updated to 12/05/2024 with the stable release.PreviousBlogNextReact Compiler Beta Release and RoadmapCopyright © Meta Platforms, Incno uwu plzuwu?Logo by@sawaratsuki1004Learn ReactQuick StartInstallationDescribing the UIAdding InteractivityManaging StateEscape HatchesAPI ReferenceReact APIsReact DOM APIsCommunityCode of ConductMeet the TeamDocs ContributorsAcknowledgementsMoreBlogReact NativePrivacyTerms')], 'answer': 'The React 19 update includes pre-warming for suspended trees, improving Suspense functionality, and introducing new React DOM static APIs.'}\n"
     ]
    }
   ],
   "source": [
    "events = graph.stream({\n",
    "    \"question\": \"What are the new updates added to the react new version? answer in 50 words\"\n",
    "},stream_mode=\"values\")\n",
    "for event in events:\n",
    "    print(event)\n",
    "    "
   ]
  },
  {
   "cell_type": "code",
   "execution_count": 156,
   "id": "c5065661-8124-46a1-b13f-746134994f06",
   "metadata": {},
   "outputs": [
    {
     "name": "stdout",
     "output_type": "stream",
     "text": [
      "{'question': 'What is react component?'}\n",
      "{'question': 'What is react component?', 'answer': 'A React component is a reusable, self-contained piece of code that forms the building block of a React application. It is a user interface element that can be customized and composed to create complex UIs. Components can be simple, representing UI elements like buttons or input fields, or they can be more complex, encapsulating logic and state to manage specific functionalities within an application.'}\n"
     ]
    }
   ],
   "source": [
    "events = graph.stream({\n",
    "    \"question\": \"What is react component?\"\n",
    "},stream_mode=\"values\")\n",
    "for event in events:\n",
    "    print(event)"
   ]
  },
  {
   "cell_type": "code",
   "execution_count": 115,
   "id": "f0bd7fe6-0267-4f50-bd8d-61d14f476060",
   "metadata": {},
   "outputs": [
    {
     "data": {
      "image/png": "[encoded data removed]",
      "text/plain": [
       "<langgraph.graph.state.CompiledStateGraph object at 0x00000178BFA23A10>"
      ]
     },
     "execution_count": 115,
     "metadata": {},
     "output_type": "execute_result"
    }
   ],
   "source": [
    "graph"
   ]
  },
  {
   "cell_type": "code",
   "execution_count": 35,
   "id": "3764d057-444f-42e3-ab7a-fe8d72f0b605",
   "metadata": {},
   "outputs": [
    {
     "data": {
      "text/plain": [
       "'The current major version of React is React 18, which was released on March 29, 2022. This version introduced several new features and improvements, including:\\n\\n1. Concurrent Features: React 18 brings the ability to start working on concurrent features, which means React can now work on multiple tasks simultaneously, improving the overall performance and responsiveness of your application.\\n\\n1. Suspense and Streaming Server Rendering: Suspense allows React components to \"wait\" for something before rendering, enabling better handling of asynchronous operations like data fetching. Streaming Server Rendering improves the user experience by sending the initial HTML to the browser sooner.\\n\\n1. New APIs: React 18 comes with new APIs like startTransition and useId. startTransition helps you control when updates are applied, enabling better control over the timing of state updates. useId is a new hook that provides a unique ID for accessibility needs.\\n\\n1. Improved Server Components: Server Components, introduced in React 17, have been improved in React 18, making it easier to build applications that render on the server.\\n\\n1. Automatic Batching: React 18 automatically batches state updates to improve performance by reducing the number of expensive re-renders.\\n\\nTo check the exact current version of React you have installed in your project, you can refer to the package.json file in the project root directory. The \"react\" and \"react-dom\" packages will have their respective version numbers listed.\\n\\nIt\\'s always recommended to keep your React version up to date to take advantage of the latest features, improvements, and bug fixes.'"
      ]
     },
     "execution_count": 35,
     "metadata": {},
     "output_type": "execute_result"
    }
   ],
   "source": [
    "llm.invoke(\"what is the current react version runnning?\").content"
   ]
  },
  {
   "cell_type": "code",
   "execution_count": null,
   "id": "e1cd351a-2111-4d01-b97b-abea7802de4c",
   "metadata": {},
   "outputs": [],
   "source": []
  }
 ],
 "metadata": {
  "kernelspec": {
   "display_name": "Python 3 (ipykernel)",
   "language": "python",
   "name": "python3"
  },
  "language_info": {
   "codemirror_mode": {
    "name": "ipython",
    "version": 3
   },
   "file_extension": ".py",
   "mimetype": "text/x-python",
   "name": "python",
   "nbconvert_exporter": "python",
   "pygments_lexer": "ipython3",
   "version": "3.12.2"
  }
 },
 "nbformat": 4,
 "nbformat_minor": 5
}
